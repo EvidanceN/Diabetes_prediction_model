{
 "cells": [
  {
   "cell_type": "code",
   "execution_count": null,
   "id": "9b4b0592-5fa0-405e-883f-44f58f0a9983",
   "metadata": {},
   "outputs": [],
   "source": [
    "#installing the libraries\n",
    "pip install azureml-sdk"
   ]
  },
  {
   "cell_type": "code",
   "execution_count": null,
   "id": "c0bbe701-a395-4408-a3db-831bf5131546",
   "metadata": {},
   "outputs": [],
   "source": [
    "pip install Workspace"
   ]
  },
  {
   "cell_type": "code",
   "execution_count": null,
   "id": "cc50b68b-d746-428d-84a2-75788e26275a",
   "metadata": {},
   "outputs": [],
   "source": [
    "pip install Dataset"
   ]
  },
  {
   "cell_type": "code",
   "execution_count": null,
   "id": "9ee9fc20-58df-480b-a30b-c7552a0356a0",
   "metadata": {},
   "outputs": [],
   "source": [
    "#importing libraries\n",
    "import pandas as pd\n",
    "import numpy as np\n",
    "\n",
    "from azureml.core.workspace import Workspace\n",
    "from azureml.core.dataset import Dataset\n",
    "from azureml.core.experiment import Experiment\n",
    "from azureml.train.automl import AutoMLConfig\n",
    "from azureml.widgets import RunDetails\n",
    "from sklearn.model_selection import train_test_split\n"
   ]
  },
  {
   "cell_type": "code",
   "execution_count": null,
   "id": "d963a5fc-830c-492c-b055-1821c97c3b7e",
   "metadata": {},
   "outputs": [],
   "source": [
    "ws=Workspace.from_config()"
   ]
  },
  {
   "cell_type": "code",
   "execution_count": null,
   "id": "56959d06-7075-4355-aaf4-53e2edfc9ecc",
   "metadata": {},
   "outputs": [],
   "source": [
    "#Reading the data\n",
    "Diabetes_data=pd.read_csv('diabetes6.csv')\n",
    "Diabetes_data"
   ]
  },
  {
   "cell_type": "code",
   "execution_count": null,
   "id": "97f20d80-cac0-4b96-92bb-d7b6a2198e1e",
   "metadata": {},
   "outputs": [],
   "source": [
    "Diabetes_data.head()"
   ]
  },
  {
   "cell_type": "code",
   "execution_count": null,
   "id": "1a9e5a8e-97cf-4d45-9d12-bae6f2001101",
   "metadata": {},
   "outputs": [],
   "source": [
    "Diabetes_data.columns"
   ]
  },
  {
   "cell_type": "code",
   "execution_count": null,
   "id": "bfa596ff-b1ac-497c-9ccc-8151cf644c82",
   "metadata": {},
   "outputs": [],
   "source": [
    "x_train, x_test = train_test_split(Diabetes_data, test_size=0.2)"
   ]
  },
  {
   "cell_type": "code",
   "execution_count": null,
   "id": "cf907e02-dde7-42fe-916b-2c89637759ac",
   "metadata": {},
   "outputs": [],
   "source": [
    "automl_settings={\n",
    "    \"iteration_timeout_minutes\":2,\n",
    "    \"experiment_timeout_minutes\":15,\n",
    "    \"enable_early_stopping\": True,\n",
    "    \"primary_metric\": 'AUC_weighted',\n",
    "    \"featurization\": 'auto',\n",
    "    \"n_cross_validations\":5,\n",
    "}"
   ]
  },
  {
   "cell_type": "code",
   "execution_count": null,
   "id": "1cab75fa-51a2-4544-8dbb-1e719f6d2de8",
   "metadata": {},
   "outputs": [],
   "source": [
    "automl_config = AutoMLConfig(task='classification',\n",
    "         debug_log='automl_errors.log',\n",
    "         training_data=x_train,\n",
    "         label_column_name=\"Outcome\",\n",
    "         **automl_settings)\n"
   ]
  },
  {
   "cell_type": "code",
   "execution_count": null,
   "id": "1797c670-925f-49d4-a91f-85a7a71f4d31",
   "metadata": {},
   "outputs": [],
   "source": [
    "experiment = Experiment(ws, \"Diabetes_experiment\")"
   ]
  },
  {
   "cell_type": "code",
   "execution_count": null,
   "id": "1c92c913-5adb-4ead-b938-53e76ed778c0",
   "metadata": {},
   "outputs": [],
   "source": [
    "run=experiment.submit(automl_config, show_output=True)"
   ]
  },
  {
   "cell_type": "code",
   "execution_count": null,
   "id": "a0adbae2-e22c-49f9-901b-fae18998e13a",
   "metadata": {},
   "outputs": [],
   "source": [
    "best_run, model = run.get_output()"
   ]
  },
  {
   "cell_type": "code",
   "execution_count": null,
   "id": "1e1ff681-7417-4c20-87a5-aa719562ad00",
   "metadata": {},
   "outputs": [],
   "source": [
    "RunDetails(run).show()"
   ]
  },
  {
   "cell_type": "code",
   "execution_count": null,
   "id": "1ffe00f1-ed67-418d-b05b-6684e9b6d7be",
   "metadata": {},
   "outputs": [],
   "source": [
    "model_name = best_run.properties[\"model_name\"]"
   ]
  },
  {
   "cell_type": "code",
   "execution_count": null,
   "id": "a46a43df-4f37-4ab7-b2c2-c6ad5c5073ef",
   "metadata": {},
   "outputs": [],
   "source": [
    "from azureml.core.model import InferenceConfig\n",
    "from azureml.core.webservice import AciWebservice, Webservice\n",
    "from azureml.core.model import Model \n",
    "from  azureml.core.environment import Environment\n"
   ]
  },
  {
   "cell_type": "code",
   "execution_count": null,
   "id": "a9e097e3-5194-4e8f-b630-8652949d3dbf",
   "metadata": {},
   "outputs": [],
   "source": [
    "best_run.download_file(\"outputs/scoring_file_v_1_0_0.py\", \"inference/score.py\")"
   ]
  },
  {
   "cell_type": "code",
   "execution_count": null,
   "id": "d68e8184-fa4f-4afa-a934-ad2ae5f64c3f",
   "metadata": {},
   "outputs": [],
   "source": [
    "from azureml.automl.core.shared import constants\n",
    "\n",
    "best_run.download_file(constants.CONDA_ENV_FILE_PATH, \"myenv.yml\") \n",
    "env = Environment.from_conda_specification(name=\"myenv\",file_path=\"myenv.yml\") \n",
    "\n",
    "inference_config = InferenceConfig(entry_scripts=\"inference/score.py\", environment=env)\n",
    "aciconfig Aciwebservice.deploy_configuration(cpu_cores=1, memory_gb=1, descriptions=\"diabetes classification\")\n",
    "service = Model.deploy(ws, \"automl-diabetes\", [registered_name], inference_config,aciconfig)\n",
    "service.wait_for_deployment(True)\n"
   ]
  }
 ],
 "metadata": {
  "kernelspec": {
   "display_name": "Python 3 (ipykernel)",
   "language": "python",
   "name": "python3"
  },
  "language_info": {
   "codemirror_mode": {
    "name": "ipython",
    "version": 3
   },
   "file_extension": ".py",
   "mimetype": "text/x-python",
   "name": "python",
   "nbconvert_exporter": "python",
   "pygments_lexer": "ipython3",
   "version": "3.11.7"
  }
 },
 "nbformat": 4,
 "nbformat_minor": 5
}
